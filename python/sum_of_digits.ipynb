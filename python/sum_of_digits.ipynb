{
 "cells": [
  {
   "cell_type": "code",
   "execution_count": 27,
   "id": "459ecddd-171c-484c-8ba6-4b60750056e7",
   "metadata": {},
   "outputs": [
    {
     "name": "stdout",
     "output_type": "stream",
     "text": [
      "length:  10 \t sum:  6\n"
     ]
    }
   ],
   "source": [
    "number = \"9012300108\"\n",
    "\n",
    "length_of_digits = len(number)\n",
    "sum_of_digits = 0\n",
    "\n",
    "for n in range(len(number)):\n",
    "    sum_of_digits = sum_of_digits + int(number[n])\n",
    "\n",
    "while sum_of_digits > 9:\n",
    "    number = str(sum_of_digits)\n",
    "    sum_of_digits = 0\n",
    "    for n in range(len(number)):\n",
    "       sum_of_digits = sum_of_digits + int(number[n])\n",
    "        \n",
    "print(\"length: \", length_of_digits, \"\\t\", \"sum: \", sum_of_digits)"
   ]
  },
  {
   "cell_type": "code",
   "execution_count": null,
   "id": "2536eee4-c1eb-4c76-ab5a-c1a0ceeb2b44",
   "metadata": {},
   "outputs": [],
   "source": [
    "7500550123"
   ]
  }
 ],
 "metadata": {
  "kernelspec": {
   "display_name": "Python 3 (ipykernel)",
   "language": "python",
   "name": "python3"
  },
  "language_info": {
   "codemirror_mode": {
    "name": "ipython",
    "version": 3
   },
   "file_extension": ".py",
   "mimetype": "text/x-python",
   "name": "python",
   "nbconvert_exporter": "python",
   "pygments_lexer": "ipython3",
   "version": "3.11.2"
  }
 },
 "nbformat": 4,
 "nbformat_minor": 5
}
